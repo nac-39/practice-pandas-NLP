{
 "cells": [
  {
   "cell_type": "markdown",
   "metadata": {},
   "source": [
    "# 目的\n",
    "- pandasの基本的な概念，メソッドに触れる\n",
    "- ついでに文章のネガポジ解析をするプログラムを書いて楽しむ\n",
    "\n",
    "## 注意！\n",
    "- 最終的に文字ばかりのデータを操作するので数値を操作する系のメソッドが手薄になってます！ごめんなさい！\n",
    "- pandasは今回使うのが初めてだから最適な手法を紹介しているとは限らないです，ごめんなさい！"
   ]
  },
  {
   "cell_type": "markdown",
   "metadata": {},
   "source": []
  },
  {
   "cell_type": "code",
   "execution_count": 2,
   "metadata": {},
   "outputs": [],
   "source": [
    "import pandas as pd\n",
    "import numpy as np"
   ]
  },
  {
   "cell_type": "markdown",
   "metadata": {},
   "source": [
    "# Pandasのデータ型\n",
    "pandasには三つのデータ型があります\n",
    "1. 一次元(配列)： **Series**\n",
    "2. 二次元(表)： **DataFrame**　←　pandasといえばこれ！（要出典）\n",
    "3. 三次元： Panel"
   ]
  },
  {
   "cell_type": "code",
   "execution_count": 3,
   "metadata": {},
   "outputs": [
    {
     "name": "stdout",
     "output_type": "stream",
     "text": [
      "a\n",
      "1    b\n",
      "dtype: object\n",
      "37\n"
     ]
    }
   ],
   "source": [
    "# series\n",
    "series = pd.Series([\"a\", \"b\", \"c\", 1, 2, 3, np.nan])\n",
    "series2 = pd.Series({\"June\": 37, \"July\": 40, \"August\": 40})\n",
    "\n",
    "print(series[0])\n",
    "# numpyと同じくスライス記法が使える（start : end : step）\n",
    "print(series[1:2:2])\n",
    "# インデックスが文字列でもOK\n",
    "print(series2[\"June\"])"
   ]
  },
  {
   "cell_type": "code",
   "execution_count": null,
   "metadata": {},
   "outputs": [],
   "source": []
  },
  {
   "cell_type": "code",
   "execution_count": 3,
   "metadata": {},
   "outputs": [
    {
     "name": "stdout",
     "output_type": "stream",
     "text": [
      "   0  1\n",
      "0  A  1\n",
      "1  B  2\n",
      "2  C  3\n",
      "3  D  4\n",
      "4  E  5\n",
      "   row1  row2\n",
      "0     1    11\n",
      "1     2    12\n",
      "2     3    13\n"
     ]
    }
   ],
   "source": [
    "# dataframe\n",
    "df = pd.DataFrame([[\"A\", 1], [\"B\", 2], [\"C\", 3], [\"D\", 4], [\"E\", 5]])\n",
    "df2 = pd.DataFrame({\"row1\": [1, 2, 3], \"row2\": [11, 12, 13]})\n",
    "print(df)\n",
    "print(df2)"
   ]
  },
  {
   "cell_type": "markdown",
   "metadata": {},
   "source": [
    "### DataFrameをcsvから読み込む・出力する\n",
    "- [read_csv](https://pandas.pydata.org/docs/reference/api/pandas.read_csv.html): 区切り文字がカンマの時\n",
    "- [read_table](https://pandas.pydata.org/docs/reference/api/pandas.read_table.html): 区切り文字がタブ文字の時　← 今回はこっち\n",
    "\n",
    "\n"
   ]
  },
  {
   "cell_type": "code",
   "execution_count": 6,
   "metadata": {},
   "outputs": [],
   "source": [
    "\n",
    "# 名詞の方を読み込み\n",
    "noun_df = pd.read_table('pn.csv.m3.120408.trim', names=(\n",
    "    \"word\", \"emotion\", \"polarity\", \"sb/ob\"))\n",
    "\n",
    "# 用言の方を読み込み\n",
    "verb_df = pd.read_table('wago.121808.pn', names=(\"emotion\", \"word\"))\n"
   ]
  },
  {
   "cell_type": "markdown",
   "metadata": {},
   "source": [
    "# データの中身を確認\n",
    "- [df.head()](https://pandas.pydata.org/docs/reference/api/pandas.DataFrame.head.html?highlight=head#pandas.DataFrame.head): デフォルトで最初の５行を返す．引数に表示する行数を設定できる．\n",
    "- [df.tail()](https://pandas.pydata.org/docs/reference/api/pandas.DataFrame.tail.html#pandas.DataFrame.tail): デフォルトで最後の５行を返す．引数に表示する行数を設定できる．\n",
    "- [df.shape](https://pandas.pydata.org/docs/reference/api/pandas.DataFrame.shape.html?highlight=shape#pandas.DataFrame.shape): データフレームオブジェクトの行数と列数を確認する\n",
    "- [df.describe()](https://pandas.pydata.org/docs/reference/api/pandas.DataFrame.describe.html?highlight=describe#pandas.DataFrame.describe): データの大まかな特徴量を調べる\n",
    "- [df.corr()](https://pandas.pydata.org/docs/reference/api/pandas.DataFrame.corr.html?highlight=corr#pandas.DataFrame.corr): データの相関係数を算出する "
   ]
  },
  {
   "cell_type": "code",
   "execution_count": 7,
   "metadata": {},
   "outputs": [
    {
     "name": "stdout",
     "output_type": "stream",
     "text": [
      "   word emotion        polarity  sb/ob\n",
      "0  ２，３日       e  〜である・になる（状態）客観    NaN\n",
      "1   10%       e  〜である・になる（状態）客観    NaN\n",
      "2  100%       e  〜である・になる（状態）客観    NaN\n",
      "3   25%       e  〜である・になる（状態）客観    NaN\n",
      "4   80%       e  〜である・になる（状態）客観    NaN\n",
      "     emotion   word\n",
      "5275  ポジ（評価）  鞏固 です\n",
      "5276  ポジ（評価）   颯爽 だ\n",
      "5277  ポジ（評価）  颯爽 です\n",
      "5278  ポジ（評価）   颯爽 と\n",
      "5279  ポジ（評価）   颯爽 の\n",
      "RangeIndex(start=0, stop=13314, step=1)\n"
     ]
    }
   ],
   "source": [
    "print(noun_df.head())\n",
    "print(verb_df.tail())\n",
    "print(noun_df.index)\n"
   ]
  },
  {
   "cell_type": "markdown",
   "metadata": {},
   "source": [
    "# データの選択\n",
    "## 1. 列の名前で選択\n",
    "- [Indexing and selecting data](https://pandas.pydata.org/docs/user_guide/indexing.html#indexing)"
   ]
  },
  {
   "cell_type": "code",
   "execution_count": 8,
   "metadata": {},
   "outputs": [
    {
     "name": "stdout",
     "output_type": "stream",
     "text": [
      "0        ２，３日\n",
      "1         10%\n",
      "2        100%\n",
      "3         25%\n",
      "4         80%\n",
      "         ... \n",
      "13309       魏\n",
      "13310    魑魅魍魎\n",
      "13311       鮑\n",
      "13312      鹹味\n",
      "13313      麒麟\n",
      "Name: word, Length: 13314, dtype: object\n",
      "   word emotion        polarity  sb/ob\n",
      "0  ２，３日       e  〜である・になる（状態）客観    NaN\n",
      "1   10%       e  〜である・になる（状態）客観    NaN\n",
      "2  100%       e  〜である・になる（状態）客観    NaN\n",
      "n       4958\n",
      "e       4954\n",
      "p       3352\n",
      "?p?n      35\n",
      "?e         4\n",
      "a          4\n",
      "o          3\n",
      "?p         2\n",
      "?p?e       1\n",
      "　          1\n",
      "Name: emotion, dtype: int64\n"
     ]
    }
   ],
   "source": [
    "print(noun_df[\"word\"])\n",
    "print(noun_df[0:3:1]) # スライス表記\n",
    "print(noun_df[\"emotion\"].value_counts())"
   ]
  },
  {
   "cell_type": "markdown",
   "metadata": {},
   "source": [
    "## 行のindexで選択"
   ]
  },
  {
   "cell_type": "code",
   "execution_count": 9,
   "metadata": {},
   "outputs": [
    {
     "name": "stdout",
     "output_type": "stream",
     "text": [
      "        A\n",
      "one    a1\n",
      "two    a2\n",
      "three  a3\n",
      "      A   B\n",
      "one  a1  b1\n"
     ]
    }
   ],
   "source": [
    "tmp_df = pd.DataFrame({ \"A\":[\"a1\", \"a2\", \"a3\"], \n",
    "                        \"B\": [\"b1\", \"b2\", \"b3\"],\n",
    "                    }, index=(\"one\", \"two\", \"three\"))\n",
    "\n",
    "# スライス表記でないと取得できない．\n",
    "# 行の取得は後述のloc, ilocを使う方がいいっぽい\n",
    "print(tmp_df[\"one\":\"one\"])"
   ]
  },
  {
   "cell_type": "markdown",
   "metadata": {},
   "source": [
    "# 高度な選択\n",
    "- [loc](https://pandas.pydata.org/docs/reference/api/pandas.DataFrame.loc.html) ... 条件に合うデータを取得する．返り値はSeriesかDataFrame.\n",
    "- [iloc](https://pandas.pydata.org/docs/reference/api/pandas.DataFrame.iloc.html) ... インデックスでデータを取得する．\n",
    "- [at](https://pandas.pydata.org/docs/reference/api/pandas.DataFrame.at.html) ... index名，column名でデータをただ一つだけ取り出す\n",
    "- [iat](https://pandas.pydata.org/docs/reference/api/pandas.DataFrame.iat.html) ... データのインデックスでデータをただ一つだけ取り出す\n"
   ]
  },
  {
   "cell_type": "code",
   "execution_count": 5,
   "metadata": {},
   "outputs": [],
   "source": [
    "tmp_df = pd.DataFrame({ \"A\":[\"a1\", \"a2\", \"a3\", 1, 3, 5], \n",
    "                        \"B\": [\"b1\", \"b2\", \"b3\", 2, 3, 4],\n",
    "                        \"C\": [\"c1\", \"c2\", \"c3\", 3, 6, 3],\n",
    "                        \"D\": [\"d1\", \"d2\", \"d3\", 1, 8, 5],\n",
    "                        \"E\": [\"e1\", \"e2\", \"e3\", 2, 4, 6],\n",
    "                    }, index=(\"one\", \"two\", \"three\", \"four\", \"five\", \"six\"))\n",
    "\n"
   ]
  },
  {
   "cell_type": "code",
   "execution_count": 1,
   "metadata": {},
   "outputs": [
    {
     "ename": "NameError",
     "evalue": "name 'tmp_df' is not defined",
     "output_type": "error",
     "traceback": [
      "\u001b[0;31m---------------------------------------------------------------------------\u001b[0m",
      "\u001b[0;31mNameError\u001b[0m                                 Traceback (most recent call last)",
      "\u001b[1;32m/Users/nanaco.s/Desktop/04_ゼミ/pandas/pandas-practice.ipynb Cell 17'\u001b[0m in \u001b[0;36m<cell line: 3>\u001b[0;34m()\u001b[0m\n\u001b[1;32m      <a href='vscode-notebook-cell:/Users/nanaco.s/Desktop/04_%E3%82%BB%E3%82%99%E3%83%9F/pandas/pandas-practice.ipynb#ch0000017?line=0'>1</a>\u001b[0m \u001b[39m# loc\u001b[39;00m\n\u001b[1;32m      <a href='vscode-notebook-cell:/Users/nanaco.s/Desktop/04_%E3%82%BB%E3%82%99%E3%83%9F/pandas/pandas-practice.ipynb#ch0000017?line=1'>2</a>\u001b[0m \u001b[39m# インデックス名のスライスでも選択できる\u001b[39;00m\n\u001b[0;32m----> <a href='vscode-notebook-cell:/Users/nanaco.s/Desktop/04_%E3%82%BB%E3%82%99%E3%83%9F/pandas/pandas-practice.ipynb#ch0000017?line=2'>3</a>\u001b[0m tmp_s \u001b[39m=\u001b[39m tmp_df\u001b[39m.\u001b[39mloc[\u001b[39m\"\u001b[39m\u001b[39mone\u001b[39m\u001b[39m\"\u001b[39m:\u001b[39m\"\u001b[39m\u001b[39mthree\u001b[39m\u001b[39m\"\u001b[39m]\n\u001b[1;32m      <a href='vscode-notebook-cell:/Users/nanaco.s/Desktop/04_%E3%82%BB%E3%82%99%E3%83%9F/pandas/pandas-practice.ipynb#ch0000017?line=3'>4</a>\u001b[0m \u001b[39mprint\u001b[39m(\u001b[39mtype\u001b[39m(tmp_s))\n\u001b[1;32m      <a href='vscode-notebook-cell:/Users/nanaco.s/Desktop/04_%E3%82%BB%E3%82%99%E3%83%9F/pandas/pandas-practice.ipynb#ch0000017?line=4'>5</a>\u001b[0m \u001b[39mprint\u001b[39m(tmp_s)\n",
      "\u001b[0;31mNameError\u001b[0m: name 'tmp_df' is not defined"
     ]
    }
   ],
   "source": [
    "# loc\n",
    "# インデックス名のスライスでも選択できる\n",
    "tmp_s = tmp_df.loc[\"one\":\"three\"]\n",
    "print(type(tmp_s))\n",
    "print(tmp_s)\n",
    "# 条件式にしても抽出できる\n",
    "# A列の値が\"a3\"の行を全て取り出す\n",
    "tmp_s = tmp_df.loc[tmp_df[\"A\"] == \"a3\"]\n",
    "print(type(tmp_s))\n",
    "print(tmp_s)\n",
    "# 複雑な条件式もOk\n",
    "tmp_s = tmp_df.loc[(tmp_df[\"A\"] == \"a3\") | (tmp_df[\"B\" == 1])]\n",
    "print(tmp_s)"
   ]
  },
  {
   "cell_type": "code",
   "execution_count": 12,
   "metadata": {},
   "outputs": [
    {
     "name": "stdout",
     "output_type": "stream",
     "text": [
      "b2\n"
     ]
    }
   ],
   "source": [
    "# iloc\n",
    "tmp_v = tmp_df.iloc[1,1]\n",
    "print(tmp_v)"
   ]
  },
  {
   "cell_type": "code",
   "execution_count": 13,
   "metadata": {},
   "outputs": [
    {
     "name": "stdout",
     "output_type": "stream",
     "text": [
      "a3\n",
      "4\n"
     ]
    }
   ],
   "source": [
    "# at\n",
    "tmp_v = tmp_df.at[\"three\", \"A\"]\n",
    "print(tmp_v)\n",
    "tmp_v = tmp_df.loc[\"six\"].at[\"B\"]\n",
    "print(tmp_v)"
   ]
  },
  {
   "cell_type": "code",
   "execution_count": 14,
   "metadata": {},
   "outputs": [
    {
     "name": "stdout",
     "output_type": "stream",
     "text": [
      "b1\n"
     ]
    }
   ],
   "source": [
    "# iat \n",
    "# 0行目の1列目\n",
    "tmp_v = tmp_df.iat[0,1]\n",
    "print(tmp_v)"
   ]
  },
  {
   "cell_type": "markdown",
   "metadata": {},
   "source": [
    "# 要素を置き換える\n",
    "- 列をいっぺんに置き換える\n",
    "`df[\"hoge\"] = df[\"hoge\"].str.replace(\"前\", \"後\")`"
   ]
  },
  {
   "cell_type": "code",
   "execution_count": 8,
   "metadata": {},
   "outputs": [
    {
     "name": "stdout",
     "output_type": "stream",
     "text": [
      "         A   B   C   D   E\n",
      "one     z1  b1  c1  d1  e1\n",
      "two     z2  b2  c2  d2  e2\n",
      "three   z3  b3  c3  d3  e3\n",
      "four   NaN   2   3   1   2\n",
      "five   NaN   3   6   8   4\n",
      "six    NaN   4   3   5   6\n",
      "<class 'pandas.core.strings.accessor.StringMethods'>\n"
     ]
    }
   ],
   "source": [
    "# A列のaをzに置き換える\n",
    "tmp_df[\"A\"] = tmp_df[\"A\"].str.replace(\"a\", \"z\")\n",
    "print(tmp_df)\n",
    "print(type(tmp_df[\"A\"].str))"
   ]
  },
  {
   "cell_type": "markdown",
   "metadata": {},
   "source": [
    "# 列を結合する\n",
    "- [pd.concat](https://pandas.pydata.org/docs/reference/api/pandas.concat.html): dataframe，seriesを結合する．\n",
    "- [pd.append](https://pandas.pydata.org/docs/reference/api/pandas.DataFrame.append.html): v1.40で廃止された．concatを使おう．"
   ]
  },
  {
   "cell_type": "code",
   "execution_count": 17,
   "metadata": {},
   "outputs": [
    {
     "name": "stdout",
     "output_type": "stream",
     "text": [
      "     A   B   C   D   E\n",
      "0   a1  b1  c1  d1  e1\n",
      "1   a2  b2  c2  d2  e2\n",
      "2   a3  b3  c3  d3  e3\n",
      "3    1   2   3   1   2\n",
      "4    3   3   6   8   4\n",
      "5    5   4   3   5   6\n",
      "6   a1  b1  c1  d1  e1\n",
      "7   a2  b2  c2  d2  e2\n",
      "8   a3  b3  c3  d3  e3\n",
      "9    1   2   3   1   2\n",
      "10   3   3   6   8   4\n",
      "11   5   4   3   5   6\n"
     ]
    }
   ],
   "source": [
    "# tmp_dfとtmp_dfを結合する．\n",
    "# ignore_index=Trueとすると元のインデックスを無視して新しく数字を振り直す．\n",
    "df = pd.concat([tmp_df, tmp_df], ignore_index=True)\n",
    "print(df)"
   ]
  },
  {
   "cell_type": "code",
   "execution_count": null,
   "metadata": {},
   "outputs": [],
   "source": []
  },
  {
   "cell_type": "markdown",
   "metadata": {},
   "source": [
    "# 参考資料\n",
    "- [pandas公式チートシート](https://github.com/pandas-dev/pandas/blob/main/doc/cheatsheet/Pandas_Cheat_Sheet.pdf)\n",
    "- "
   ]
  },
  {
   "cell_type": "markdown",
   "metadata": {},
   "source": []
  }
 ],
 "metadata": {
  "kernelspec": {
   "display_name": "Python 3.9.4 ('.venv': venv)",
   "language": "python",
   "name": "python3"
  },
  "language_info": {
   "codemirror_mode": {
    "name": "ipython",
    "version": 3
   },
   "file_extension": ".py",
   "mimetype": "text/x-python",
   "name": "python",
   "nbconvert_exporter": "python",
   "pygments_lexer": "ipython3",
   "version": "3.9.4"
  },
  "orig_nbformat": 4,
  "vscode": {
   "interpreter": {
    "hash": "7e753ec62ff4ae8234fc6220ef2e6a49acd6835ff7be95cb85260741b626b22d"
   }
  }
 },
 "nbformat": 4,
 "nbformat_minor": 2
}
