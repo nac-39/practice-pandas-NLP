{
 "cells": [
  {
   "cell_type": "code",
   "execution_count": null,
   "metadata": {},
   "outputs": [],
   "source": [
    "# 感情極性辞書をダウンロード\n",
    "\n",
    "# 名詞\n",
    "!curl http://www.cl.ecei.tohoku.ac.jp/resources/sent_lex/pn.csv.m3.120408.trim > pn.csv.m3.120408.trim\n",
    "# 用言\n",
    "!curl http://www.cl.ecei.tohoku.ac.jp/resources/sent_lex/wago.121808.pn > wago.121808.pn\n",
    "\n"
   ]
  },
  {
   "cell_type": "code",
   "execution_count": null,
   "metadata": {},
   "outputs": [],
   "source": [
    "# google colab用\n",
    "!pip install mecab-python3\n",
    "!apt install mecab libmecab-dev git make curl xz-utils file  mecab-ipadic mecab-ipadic-utf8\n",
    "!git clone --depth 1 https://github.com/neologd/mecab-unidic-neologd.git\n",
    "!echo yes | mecab-unidic-neologd/bin/install-mecab-unidic-neologd -n\n",
    "!ln -s /etc/mecabrc /usr/local/etc/mecabrc"
   ]
  },
  {
   "cell_type": "code",
   "execution_count": 12,
   "metadata": {},
   "outputs": [],
   "source": [
    "# uta-netスクレイピング用\n",
    "import requests\n",
    "from bs4 import BeautifulSoup\n",
    "\n",
    "def get_lyric(url):\n",
    "    res = requests.get(url)\n",
    "    soup = BeautifulSoup(res.text, features=\"html.parser\")\n",
    "    lyrics = soup.find(id=\"kashi_area\").get_text(\"\\n\")\n",
    "    title = soup.find(class_=\"blur-filter\").find(\"h2\").get_text()\n",
    "    author = soup.find(class_=\"blur-filter\").find(\"span\").get_text()\n",
    "    lyrics = lyrics.replace(\" \", \"\\n\").replace(\"　\", \"\\n\")\n",
    "    return lyrics, title, author"
   ]
  },
  {
   "cell_type": "code",
   "execution_count": 13,
   "metadata": {},
   "outputs": [],
   "source": [
    "import pandas as pd\n",
    "import numpy as np\n",
    "import MeCab"
   ]
  },
  {
   "cell_type": "code",
   "execution_count": 14,
   "metadata": {},
   "outputs": [],
   "source": [
    "\n",
    "# question: 名詞の方を読み込み\n",
    "# ファイル名はpn.csv.m3.120408.trim\n",
    "noun_df = \n",
    "\n",
    "# question: 用言の方を読み込み\n",
    "# ファイル名はwago.121808.pn\n",
    "verb_df = \n"
   ]
  },
  {
   "cell_type": "code",
   "execution_count": 15,
   "metadata": {},
   "outputs": [
    {
     "name": "stdout",
     "output_type": "stream",
     "text": [
      "n       4958\n",
      "e       4954\n",
      "p       3352\n",
      "?p?n      35\n",
      "?e         4\n",
      "a          4\n",
      "o          3\n",
      "?p         2\n",
      "?p?e       1\n",
      "　          1\n",
      "Name: emotion, dtype: int64\n"
     ]
    }
   ],
   "source": [
    "# 感情の内訳を確認\n",
    "print(noun_df[\"emotion\"].value_counts())\n",
    "# question: 感情のうち、p/e/nの項目のみを抽出\n",
    "noun_df = "
   ]
  },
  {
   "cell_type": "code",
   "execution_count": 16,
   "metadata": {},
   "outputs": [],
   "source": [
    "# データの書き換え\n",
    "# https://note.nkmk.me/python-pandas-replace/\n",
    "\n",
    "# question: 用言のemotionの括弧の中身を置換で消す．\n",
    "# 正規表現を使うとうまく消すことができる．replaceの名前付き引数regex=Trueを使う．\n",
    "verb_df[\"emotion\"] = \n",
    "\n",
    "# question: verb_dfの値で，スペース\" \"があれば\"\"に置換してなくす．\n",
    "verb_df[\"word\"] = \n"
   ]
  },
  {
   "cell_type": "code",
   "execution_count": 17,
   "metadata": {},
   "outputs": [],
   "source": [
    "# noun_dfの\"sb/ob\"と\"polarity\"を消す\n",
    "# https://note.nkmk.me/python-pandas-drop/#dataframe_1\n",
    "noun_df.drop(columns=\"sb/ob\", inplace=True)\n",
    "noun_df.drop(columns=\"polarity\", inplace=True)\n"
   ]
  },
  {
   "cell_type": "code",
   "execution_count": 18,
   "metadata": {},
   "outputs": [],
   "source": [
    "url = \"https://www.uta-net.com/song/317038/\"\n",
    "lyrics, title, author = get_lyric(url)\n",
    "def generate_lyric_df(lyric):\n",
    "    tagger = MeCab.Tagger()\n",
    "    node = tagger.parseToNode(lyric)\n",
    "    \n",
    "    \n",
    "    col_names = [\"word\",        # 単語\n",
    "                 \"basic_form\",  # 基本形\n",
    "                 \"pos\",         # 品詞\n",
    "                 \"emotion\"]     # 感情（ひとまず空欄にしとく）\n",
    "    \n",
    "    df = pd.DataFrame(columns=col_names)\n",
    "    print(df)\n",
    "    while node:\n",
    "        # 単語、品詞、詳細情報をタブ区切りで表示\n",
    "        t = node.feature.split(\",\")\n",
    "        if t[0] in (\"名詞\", \"動詞\", \"副詞\", \"形容詞\"):\n",
    "            try: \n",
    "                pos = t[0]\n",
    "                basic_form = t[7]\n",
    "                data_row = [node.surface, basic_form, pos, None]\n",
    "                \n",
    "                # question: data_rowを行に持ち，カラム名がcol_namesのdataframeを定義する．\n",
    "                row = \n",
    "                # row = pd.Series([node.surface, basic_form, pos, None]) # これはうまくいかないからDFを使う\n",
    "                \n",
    "                # question: dfの最終行にrowを結合する．\n",
    "                df =  \n",
    "            except Exception as e:\n",
    "                print(e)\n",
    "        # 次の要素を取得\n",
    "        node = node.next\n",
    "    print(df)\n",
    "    return df"
   ]
  },
  {
   "cell_type": "code",
   "execution_count": 19,
   "metadata": {},
   "outputs": [
    {
     "ename": "TypeError",
     "evalue": "in method 'Tagger_parseToNode', argument 2 of type 'char const *'",
     "output_type": "error",
     "traceback": [
      "\u001b[0;31m---------------------------------------------------------------------------\u001b[0m",
      "\u001b[0;31mTypeError\u001b[0m                                 Traceback (most recent call last)",
      "\u001b[1;32m/Users/nanaco.s/Desktop/04_ゼミ/pandas/analysis-lylic-ans.ipynb Cell 9'\u001b[0m in \u001b[0;36m<cell line: 1>\u001b[0;34m()\u001b[0m\n\u001b[0;32m----> <a href='vscode-notebook-cell:/Users/nanaco.s/Desktop/04_%E3%82%BB%E3%82%99%E3%83%9F/pandas/analysis-lylic-ans.ipynb#ch0000010?line=0'>1</a>\u001b[0m lyric_df \u001b[39m=\u001b[39m generate_lyric_df(lyric)\n\u001b[1;32m      <a href='vscode-notebook-cell:/Users/nanaco.s/Desktop/04_%E3%82%BB%E3%82%99%E3%83%9F/pandas/analysis-lylic-ans.ipynb#ch0000010?line=2'>3</a>\u001b[0m \u001b[39mdef\u001b[39;00m \u001b[39mfill_emotion\u001b[39m(lyric_df: pd\u001b[39m.\u001b[39mDataFrame) \u001b[39m-\u001b[39m\u001b[39m>\u001b[39m pd\u001b[39m.\u001b[39mDataFrame:\n\u001b[1;32m      <a href='vscode-notebook-cell:/Users/nanaco.s/Desktop/04_%E3%82%BB%E3%82%99%E3%83%9F/pandas/analysis-lylic-ans.ipynb#ch0000010?line=3'>4</a>\u001b[0m     \u001b[39mfor\u001b[39;00m index, word, basic_form, pos, emotion \u001b[39min\u001b[39;00m lyric_df\u001b[39m.\u001b[39mitertuples():\n",
      "\u001b[1;32m/Users/nanaco.s/Desktop/04_ゼミ/pandas/analysis-lylic-ans.ipynb Cell 8'\u001b[0m in \u001b[0;36mgenerate_lyric_df\u001b[0;34m(lyric)\u001b[0m\n\u001b[1;32m      <a href='vscode-notebook-cell:/Users/nanaco.s/Desktop/04_%E3%82%BB%E3%82%99%E3%83%9F/pandas/analysis-lylic-ans.ipynb#ch0000007?line=2'>3</a>\u001b[0m \u001b[39mdef\u001b[39;00m \u001b[39mgenerate_lyric_df\u001b[39m(lyric):\n\u001b[1;32m      <a href='vscode-notebook-cell:/Users/nanaco.s/Desktop/04_%E3%82%BB%E3%82%99%E3%83%9F/pandas/analysis-lylic-ans.ipynb#ch0000007?line=3'>4</a>\u001b[0m     tagger \u001b[39m=\u001b[39m MeCab\u001b[39m.\u001b[39mTagger()\n\u001b[0;32m----> <a href='vscode-notebook-cell:/Users/nanaco.s/Desktop/04_%E3%82%BB%E3%82%99%E3%83%9F/pandas/analysis-lylic-ans.ipynb#ch0000007?line=4'>5</a>\u001b[0m     node \u001b[39m=\u001b[39m tagger\u001b[39m.\u001b[39;49mparseToNode(lyric)\n\u001b[1;32m      <a href='vscode-notebook-cell:/Users/nanaco.s/Desktop/04_%E3%82%BB%E3%82%99%E3%83%9F/pandas/analysis-lylic-ans.ipynb#ch0000007?line=5'>6</a>\u001b[0m     col_names \u001b[39m=\u001b[39m [\u001b[39m\"\u001b[39m\u001b[39mword\u001b[39m\u001b[39m\"\u001b[39m, \u001b[39m\"\u001b[39m\u001b[39mbasic_form\u001b[39m\u001b[39m\"\u001b[39m, \u001b[39m\"\u001b[39m\u001b[39mpos\u001b[39m\u001b[39m\"\u001b[39m, \u001b[39m\"\u001b[39m\u001b[39memotion\u001b[39m\u001b[39m\"\u001b[39m]\n\u001b[1;32m      <a href='vscode-notebook-cell:/Users/nanaco.s/Desktop/04_%E3%82%BB%E3%82%99%E3%83%9F/pandas/analysis-lylic-ans.ipynb#ch0000007?line=6'>7</a>\u001b[0m     df \u001b[39m=\u001b[39m pd\u001b[39m.\u001b[39mDataFrame(columns\u001b[39m=\u001b[39mcol_names)\n",
      "\u001b[0;31mTypeError\u001b[0m: in method 'Tagger_parseToNode', argument 2 of type 'char const *'"
     ]
    }
   ],
   "source": [
    "lyric_df = generate_lyric_df(lyrics)\n",
    "\n",
    "def fill_emotion(lyric_df: pd.DataFrame) -> pd.DataFrame:\n",
    "    for index, word, basic_form, pos, emotion in lyric_df.itertuples():\n",
    "        if pos == \"名詞\":\n",
    "            # question: noun_dfからword列が↑で定義されているwordと等しい行をとってくる\n",
    "            emotion = \n",
    "        elif pos == \"動詞\":\n",
    "            # question: verb_dfからword列が↑で定義されているwordと等しい行をとってくる\n",
    "            emotion = \n",
    "        if not (emotion is None):\n",
    "            if not(emotion.empty):\n",
    "                # 値を代入するときは代入先を一つに指定しないといけない\n",
    "                lyric_df.iloc[index, 3]= emotion.iat[0,1]\n",
    "    return lyric_df\n",
    "\n",
    "lyric_df = fill_emotion(lyric_df)\n",
    "print(lyric_df)\n",
    "\n",
    "\n",
    "print(lyric_df.groupby(\"emotion\").count())"
   ]
  },
  {
   "cell_type": "code",
   "execution_count": null,
   "metadata": {},
   "outputs": [],
   "source": []
  },
  {
   "cell_type": "code",
   "execution_count": null,
   "metadata": {},
   "outputs": [],
   "source": []
  }
 ],
 "metadata": {
  "kernelspec": {
   "display_name": "Python 3.9.4 ('.venv': venv)",
   "language": "python",
   "name": "python3"
  },
  "language_info": {
   "codemirror_mode": {
    "name": "ipython",
    "version": 3
   },
   "file_extension": ".py",
   "mimetype": "text/x-python",
   "name": "python",
   "nbconvert_exporter": "python",
   "pygments_lexer": "ipython3",
   "version": "3.9.4"
  },
  "orig_nbformat": 4,
  "vscode": {
   "interpreter": {
    "hash": "7e753ec62ff4ae8234fc6220ef2e6a49acd6835ff7be95cb85260741b626b22d"
   }
  }
 },
 "nbformat": 4,
 "nbformat_minor": 2
}
